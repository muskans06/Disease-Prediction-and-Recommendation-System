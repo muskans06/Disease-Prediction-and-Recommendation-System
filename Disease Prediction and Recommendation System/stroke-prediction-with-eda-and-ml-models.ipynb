{
 "cells": [
  {
   "cell_type": "code",
   "execution_count": 1,
   "id": "76a6fc08",
   "metadata": {
    "_cell_guid": "b1076dfc-b9ad-4769-8c92-a6c4dae69d19",
    "_uuid": "8f2839f25d086af736a60e9eeb907d3b93b6e0e5",
    "execution": {
     "iopub.execute_input": "2023-04-23T10:03:40.967032Z",
     "iopub.status.busy": "2023-04-23T10:03:40.966633Z",
     "iopub.status.idle": "2023-04-23T10:03:42.430132Z",
     "shell.execute_reply": "2023-04-23T10:03:42.429114Z"
    },
    "papermill": {
     "duration": 1.478895,
     "end_time": "2023-04-23T10:03:42.432839",
     "exception": false,
     "start_time": "2023-04-23T10:03:40.953944",
     "status": "completed"
    },
    "tags": []
   },
   "outputs": [],
   "source": [
    "import numpy as np \n",
    "import pandas as pd \n",
    "import matplotlib.pyplot as plt\n",
    "import seaborn as sns \n",
    "import os\n",
    "from sklearn.cluster import KMeans\n",
    "from sklearn.preprocessing import MinMaxScaler"
   ]
  },
  {
   "cell_type": "code",
   "execution_count": 2,
   "id": "352bb0f5",
   "metadata": {
    "execution": {
     "iopub.execute_input": "2023-04-23T10:03:42.448134Z",
     "iopub.status.busy": "2023-04-23T10:03:42.447289Z",
     "iopub.status.idle": "2023-04-23T10:03:42.503331Z",
     "shell.execute_reply": "2023-04-23T10:03:42.502352Z"
    },
    "papermill": {
     "duration": 0.066126,
     "end_time": "2023-04-23T10:03:42.505904",
     "exception": false,
     "start_time": "2023-04-23T10:03:42.439778",
     "status": "completed"
    },
    "tags": []
   },
   "outputs": [
    {
     "data": {
      "text/html": [
       "<div>\n",
       "<style scoped>\n",
       "    .dataframe tbody tr th:only-of-type {\n",
       "        vertical-align: middle;\n",
       "    }\n",
       "\n",
       "    .dataframe tbody tr th {\n",
       "        vertical-align: top;\n",
       "    }\n",
       "\n",
       "    .dataframe thead th {\n",
       "        text-align: right;\n",
       "    }\n",
       "</style>\n",
       "<table border=\"1\" class=\"dataframe\">\n",
       "  <thead>\n",
       "    <tr style=\"text-align: right;\">\n",
       "      <th></th>\n",
       "      <th>id</th>\n",
       "      <th>gender</th>\n",
       "      <th>age</th>\n",
       "      <th>hypertension</th>\n",
       "      <th>heart_disease</th>\n",
       "      <th>ever_married</th>\n",
       "      <th>work_type</th>\n",
       "      <th>Residence_type</th>\n",
       "      <th>avg_glucose_level</th>\n",
       "      <th>bmi</th>\n",
       "      <th>smoking_status</th>\n",
       "      <th>stroke</th>\n",
       "    </tr>\n",
       "  </thead>\n",
       "  <tbody>\n",
       "    <tr>\n",
       "      <th>0</th>\n",
       "      <td>9046</td>\n",
       "      <td>Male</td>\n",
       "      <td>67.0</td>\n",
       "      <td>0</td>\n",
       "      <td>1</td>\n",
       "      <td>Yes</td>\n",
       "      <td>Private</td>\n",
       "      <td>Urban</td>\n",
       "      <td>228.69</td>\n",
       "      <td>36.6</td>\n",
       "      <td>formerly smoked</td>\n",
       "      <td>1</td>\n",
       "    </tr>\n",
       "    <tr>\n",
       "      <th>1</th>\n",
       "      <td>51676</td>\n",
       "      <td>Female</td>\n",
       "      <td>61.0</td>\n",
       "      <td>0</td>\n",
       "      <td>0</td>\n",
       "      <td>Yes</td>\n",
       "      <td>Self-employed</td>\n",
       "      <td>Rural</td>\n",
       "      <td>202.21</td>\n",
       "      <td>NaN</td>\n",
       "      <td>never smoked</td>\n",
       "      <td>1</td>\n",
       "    </tr>\n",
       "    <tr>\n",
       "      <th>2</th>\n",
       "      <td>31112</td>\n",
       "      <td>Male</td>\n",
       "      <td>80.0</td>\n",
       "      <td>0</td>\n",
       "      <td>1</td>\n",
       "      <td>Yes</td>\n",
       "      <td>Private</td>\n",
       "      <td>Rural</td>\n",
       "      <td>105.92</td>\n",
       "      <td>32.5</td>\n",
       "      <td>never smoked</td>\n",
       "      <td>1</td>\n",
       "    </tr>\n",
       "    <tr>\n",
       "      <th>3</th>\n",
       "      <td>60182</td>\n",
       "      <td>Female</td>\n",
       "      <td>49.0</td>\n",
       "      <td>0</td>\n",
       "      <td>0</td>\n",
       "      <td>Yes</td>\n",
       "      <td>Private</td>\n",
       "      <td>Urban</td>\n",
       "      <td>171.23</td>\n",
       "      <td>34.4</td>\n",
       "      <td>smokes</td>\n",
       "      <td>1</td>\n",
       "    </tr>\n",
       "    <tr>\n",
       "      <th>4</th>\n",
       "      <td>1665</td>\n",
       "      <td>Female</td>\n",
       "      <td>79.0</td>\n",
       "      <td>1</td>\n",
       "      <td>0</td>\n",
       "      <td>Yes</td>\n",
       "      <td>Self-employed</td>\n",
       "      <td>Rural</td>\n",
       "      <td>174.12</td>\n",
       "      <td>24.0</td>\n",
       "      <td>never smoked</td>\n",
       "      <td>1</td>\n",
       "    </tr>\n",
       "    <tr>\n",
       "      <th>...</th>\n",
       "      <td>...</td>\n",
       "      <td>...</td>\n",
       "      <td>...</td>\n",
       "      <td>...</td>\n",
       "      <td>...</td>\n",
       "      <td>...</td>\n",
       "      <td>...</td>\n",
       "      <td>...</td>\n",
       "      <td>...</td>\n",
       "      <td>...</td>\n",
       "      <td>...</td>\n",
       "      <td>...</td>\n",
       "    </tr>\n",
       "    <tr>\n",
       "      <th>5105</th>\n",
       "      <td>18234</td>\n",
       "      <td>Female</td>\n",
       "      <td>80.0</td>\n",
       "      <td>1</td>\n",
       "      <td>0</td>\n",
       "      <td>Yes</td>\n",
       "      <td>Private</td>\n",
       "      <td>Urban</td>\n",
       "      <td>83.75</td>\n",
       "      <td>NaN</td>\n",
       "      <td>never smoked</td>\n",
       "      <td>0</td>\n",
       "    </tr>\n",
       "    <tr>\n",
       "      <th>5106</th>\n",
       "      <td>44873</td>\n",
       "      <td>Female</td>\n",
       "      <td>81.0</td>\n",
       "      <td>0</td>\n",
       "      <td>0</td>\n",
       "      <td>Yes</td>\n",
       "      <td>Self-employed</td>\n",
       "      <td>Urban</td>\n",
       "      <td>125.20</td>\n",
       "      <td>40.0</td>\n",
       "      <td>never smoked</td>\n",
       "      <td>0</td>\n",
       "    </tr>\n",
       "    <tr>\n",
       "      <th>5107</th>\n",
       "      <td>19723</td>\n",
       "      <td>Female</td>\n",
       "      <td>35.0</td>\n",
       "      <td>0</td>\n",
       "      <td>0</td>\n",
       "      <td>Yes</td>\n",
       "      <td>Self-employed</td>\n",
       "      <td>Rural</td>\n",
       "      <td>82.99</td>\n",
       "      <td>30.6</td>\n",
       "      <td>never smoked</td>\n",
       "      <td>0</td>\n",
       "    </tr>\n",
       "    <tr>\n",
       "      <th>5108</th>\n",
       "      <td>37544</td>\n",
       "      <td>Male</td>\n",
       "      <td>51.0</td>\n",
       "      <td>0</td>\n",
       "      <td>0</td>\n",
       "      <td>Yes</td>\n",
       "      <td>Private</td>\n",
       "      <td>Rural</td>\n",
       "      <td>166.29</td>\n",
       "      <td>25.6</td>\n",
       "      <td>formerly smoked</td>\n",
       "      <td>0</td>\n",
       "    </tr>\n",
       "    <tr>\n",
       "      <th>5109</th>\n",
       "      <td>44679</td>\n",
       "      <td>Female</td>\n",
       "      <td>44.0</td>\n",
       "      <td>0</td>\n",
       "      <td>0</td>\n",
       "      <td>Yes</td>\n",
       "      <td>Govt_job</td>\n",
       "      <td>Urban</td>\n",
       "      <td>85.28</td>\n",
       "      <td>26.2</td>\n",
       "      <td>Unknown</td>\n",
       "      <td>0</td>\n",
       "    </tr>\n",
       "  </tbody>\n",
       "</table>\n",
       "<p>5110 rows × 12 columns</p>\n",
       "</div>"
      ],
      "text/plain": [
       "         id  gender   age  hypertension  heart_disease ever_married  \\\n",
       "0      9046    Male  67.0             0              1          Yes   \n",
       "1     51676  Female  61.0             0              0          Yes   \n",
       "2     31112    Male  80.0             0              1          Yes   \n",
       "3     60182  Female  49.0             0              0          Yes   \n",
       "4      1665  Female  79.0             1              0          Yes   \n",
       "...     ...     ...   ...           ...            ...          ...   \n",
       "5105  18234  Female  80.0             1              0          Yes   \n",
       "5106  44873  Female  81.0             0              0          Yes   \n",
       "5107  19723  Female  35.0             0              0          Yes   \n",
       "5108  37544    Male  51.0             0              0          Yes   \n",
       "5109  44679  Female  44.0             0              0          Yes   \n",
       "\n",
       "          work_type Residence_type  avg_glucose_level   bmi   smoking_status  \\\n",
       "0           Private          Urban             228.69  36.6  formerly smoked   \n",
       "1     Self-employed          Rural             202.21   NaN     never smoked   \n",
       "2           Private          Rural             105.92  32.5     never smoked   \n",
       "3           Private          Urban             171.23  34.4           smokes   \n",
       "4     Self-employed          Rural             174.12  24.0     never smoked   \n",
       "...             ...            ...                ...   ...              ...   \n",
       "5105        Private          Urban              83.75   NaN     never smoked   \n",
       "5106  Self-employed          Urban             125.20  40.0     never smoked   \n",
       "5107  Self-employed          Rural              82.99  30.6     never smoked   \n",
       "5108        Private          Rural             166.29  25.6  formerly smoked   \n",
       "5109       Govt_job          Urban              85.28  26.2          Unknown   \n",
       "\n",
       "      stroke  \n",
       "0          1  \n",
       "1          1  \n",
       "2          1  \n",
       "3          1  \n",
       "4          1  \n",
       "...      ...  \n",
       "5105       0  \n",
       "5106       0  \n",
       "5107       0  \n",
       "5108       0  \n",
       "5109       0  \n",
       "\n",
       "[5110 rows x 12 columns]"
      ]
     },
     "execution_count": 2,
     "metadata": {},
     "output_type": "execute_result"
    }
   ],
   "source": [
    "df = pd.read_csv('stroke.csv')\n",
    "df"
   ]
  },
  {
   "cell_type": "code",
   "execution_count": 3,
   "id": "6c9937fb",
   "metadata": {
    "execution": {
     "iopub.execute_input": "2023-04-23T10:03:42.521008Z",
     "iopub.status.busy": "2023-04-23T10:03:42.520435Z",
     "iopub.status.idle": "2023-04-23T10:03:42.529967Z",
     "shell.execute_reply": "2023-04-23T10:03:42.528842Z"
    },
    "papermill": {
     "duration": 0.019436,
     "end_time": "2023-04-23T10:03:42.532227",
     "exception": false,
     "start_time": "2023-04-23T10:03:42.512791",
     "status": "completed"
    },
    "tags": []
   },
   "outputs": [
    {
     "data": {
      "text/plain": [
       "id                     0\n",
       "gender                 0\n",
       "age                    0\n",
       "hypertension           0\n",
       "heart_disease          0\n",
       "ever_married           0\n",
       "work_type              0\n",
       "Residence_type         0\n",
       "avg_glucose_level      0\n",
       "bmi                  201\n",
       "smoking_status         0\n",
       "stroke                 0\n",
       "dtype: int64"
      ]
     },
     "execution_count": 3,
     "metadata": {},
     "output_type": "execute_result"
    }
   ],
   "source": [
    "df.isna().sum()"
   ]
  },
  {
   "cell_type": "code",
   "execution_count": 4,
   "id": "043e3f6a",
   "metadata": {
    "execution": {
     "iopub.execute_input": "2023-04-23T10:03:42.547254Z",
     "iopub.status.busy": "2023-04-23T10:03:42.546968Z",
     "iopub.status.idle": "2023-04-23T10:03:42.555527Z",
     "shell.execute_reply": "2023-04-23T10:03:42.554620Z"
    },
    "papermill": {
     "duration": 0.018405,
     "end_time": "2023-04-23T10:03:42.557619",
     "exception": false,
     "start_time": "2023-04-23T10:03:42.539214",
     "status": "completed"
    },
    "tags": []
   },
   "outputs": [],
   "source": [
    "df['bmi'].fillna(df['bmi'].mean(), inplace = True)"
   ]
  },
  {
   "cell_type": "code",
   "execution_count": 5,
   "id": "ecd94a78",
   "metadata": {
    "execution": {
     "iopub.execute_input": "2023-04-23T10:03:42.573351Z",
     "iopub.status.busy": "2023-04-23T10:03:42.572582Z",
     "iopub.status.idle": "2023-04-23T10:03:42.581932Z",
     "shell.execute_reply": "2023-04-23T10:03:42.580962Z"
    },
    "papermill": {
     "duration": 0.019504,
     "end_time": "2023-04-23T10:03:42.583984",
     "exception": false,
     "start_time": "2023-04-23T10:03:42.564480",
     "status": "completed"
    },
    "tags": []
   },
   "outputs": [
    {
     "data": {
      "text/plain": [
       "id                   0\n",
       "gender               0\n",
       "age                  0\n",
       "hypertension         0\n",
       "heart_disease        0\n",
       "ever_married         0\n",
       "work_type            0\n",
       "Residence_type       0\n",
       "avg_glucose_level    0\n",
       "bmi                  0\n",
       "smoking_status       0\n",
       "stroke               0\n",
       "dtype: int64"
      ]
     },
     "execution_count": 5,
     "metadata": {},
     "output_type": "execute_result"
    }
   ],
   "source": [
    "df.isna().sum()"
   ]
  },
  {
   "cell_type": "code",
   "execution_count": 6,
   "id": "9ed86553",
   "metadata": {
    "execution": {
     "iopub.execute_input": "2023-04-23T10:03:42.599679Z",
     "iopub.status.busy": "2023-04-23T10:03:42.598834Z",
     "iopub.status.idle": "2023-04-23T10:03:42.631079Z",
     "shell.execute_reply": "2023-04-23T10:03:42.629998Z"
    },
    "papermill": {
     "duration": 0.042677,
     "end_time": "2023-04-23T10:03:42.633662",
     "exception": false,
     "start_time": "2023-04-23T10:03:42.590985",
     "status": "completed"
    },
    "tags": []
   },
   "outputs": [
    {
     "data": {
      "text/html": [
       "<div>\n",
       "<style scoped>\n",
       "    .dataframe tbody tr th:only-of-type {\n",
       "        vertical-align: middle;\n",
       "    }\n",
       "\n",
       "    .dataframe tbody tr th {\n",
       "        vertical-align: top;\n",
       "    }\n",
       "\n",
       "    .dataframe thead th {\n",
       "        text-align: right;\n",
       "    }\n",
       "</style>\n",
       "<table border=\"1\" class=\"dataframe\">\n",
       "  <thead>\n",
       "    <tr style=\"text-align: right;\">\n",
       "      <th></th>\n",
       "      <th>id</th>\n",
       "      <th>age</th>\n",
       "      <th>hypertension</th>\n",
       "      <th>heart_disease</th>\n",
       "      <th>avg_glucose_level</th>\n",
       "      <th>bmi</th>\n",
       "      <th>stroke</th>\n",
       "    </tr>\n",
       "  </thead>\n",
       "  <tbody>\n",
       "    <tr>\n",
       "      <th>count</th>\n",
       "      <td>5110.000000</td>\n",
       "      <td>5110.000000</td>\n",
       "      <td>5110.000000</td>\n",
       "      <td>5110.000000</td>\n",
       "      <td>5110.000000</td>\n",
       "      <td>5110.000000</td>\n",
       "      <td>5110.000000</td>\n",
       "    </tr>\n",
       "    <tr>\n",
       "      <th>mean</th>\n",
       "      <td>36517.829354</td>\n",
       "      <td>43.226614</td>\n",
       "      <td>0.097456</td>\n",
       "      <td>0.054012</td>\n",
       "      <td>106.147677</td>\n",
       "      <td>28.893237</td>\n",
       "      <td>0.048728</td>\n",
       "    </tr>\n",
       "    <tr>\n",
       "      <th>std</th>\n",
       "      <td>21161.721625</td>\n",
       "      <td>22.612647</td>\n",
       "      <td>0.296607</td>\n",
       "      <td>0.226063</td>\n",
       "      <td>45.283560</td>\n",
       "      <td>7.698018</td>\n",
       "      <td>0.215320</td>\n",
       "    </tr>\n",
       "    <tr>\n",
       "      <th>min</th>\n",
       "      <td>67.000000</td>\n",
       "      <td>0.080000</td>\n",
       "      <td>0.000000</td>\n",
       "      <td>0.000000</td>\n",
       "      <td>55.120000</td>\n",
       "      <td>10.300000</td>\n",
       "      <td>0.000000</td>\n",
       "    </tr>\n",
       "    <tr>\n",
       "      <th>25%</th>\n",
       "      <td>17741.250000</td>\n",
       "      <td>25.000000</td>\n",
       "      <td>0.000000</td>\n",
       "      <td>0.000000</td>\n",
       "      <td>77.245000</td>\n",
       "      <td>23.800000</td>\n",
       "      <td>0.000000</td>\n",
       "    </tr>\n",
       "    <tr>\n",
       "      <th>50%</th>\n",
       "      <td>36932.000000</td>\n",
       "      <td>45.000000</td>\n",
       "      <td>0.000000</td>\n",
       "      <td>0.000000</td>\n",
       "      <td>91.885000</td>\n",
       "      <td>28.400000</td>\n",
       "      <td>0.000000</td>\n",
       "    </tr>\n",
       "    <tr>\n",
       "      <th>75%</th>\n",
       "      <td>54682.000000</td>\n",
       "      <td>61.000000</td>\n",
       "      <td>0.000000</td>\n",
       "      <td>0.000000</td>\n",
       "      <td>114.090000</td>\n",
       "      <td>32.800000</td>\n",
       "      <td>0.000000</td>\n",
       "    </tr>\n",
       "    <tr>\n",
       "      <th>max</th>\n",
       "      <td>72940.000000</td>\n",
       "      <td>82.000000</td>\n",
       "      <td>1.000000</td>\n",
       "      <td>1.000000</td>\n",
       "      <td>271.740000</td>\n",
       "      <td>97.600000</td>\n",
       "      <td>1.000000</td>\n",
       "    </tr>\n",
       "  </tbody>\n",
       "</table>\n",
       "</div>"
      ],
      "text/plain": [
       "                 id          age  hypertension  heart_disease  \\\n",
       "count   5110.000000  5110.000000   5110.000000    5110.000000   \n",
       "mean   36517.829354    43.226614      0.097456       0.054012   \n",
       "std    21161.721625    22.612647      0.296607       0.226063   \n",
       "min       67.000000     0.080000      0.000000       0.000000   \n",
       "25%    17741.250000    25.000000      0.000000       0.000000   \n",
       "50%    36932.000000    45.000000      0.000000       0.000000   \n",
       "75%    54682.000000    61.000000      0.000000       0.000000   \n",
       "max    72940.000000    82.000000      1.000000       1.000000   \n",
       "\n",
       "       avg_glucose_level          bmi       stroke  \n",
       "count        5110.000000  5110.000000  5110.000000  \n",
       "mean          106.147677    28.893237     0.048728  \n",
       "std            45.283560     7.698018     0.215320  \n",
       "min            55.120000    10.300000     0.000000  \n",
       "25%            77.245000    23.800000     0.000000  \n",
       "50%            91.885000    28.400000     0.000000  \n",
       "75%           114.090000    32.800000     0.000000  \n",
       "max           271.740000    97.600000     1.000000  "
      ]
     },
     "execution_count": 6,
     "metadata": {},
     "output_type": "execute_result"
    }
   ],
   "source": [
    "df.describe()"
   ]
  },
  {
   "cell_type": "code",
   "execution_count": 7,
   "id": "0662d8fb",
   "metadata": {
    "execution": {
     "iopub.execute_input": "2023-04-23T10:03:42.650241Z",
     "iopub.status.busy": "2023-04-23T10:03:42.649423Z",
     "iopub.status.idle": "2023-04-23T10:03:42.665766Z",
     "shell.execute_reply": "2023-04-23T10:03:42.664654Z"
    },
    "papermill": {
     "duration": 0.026865,
     "end_time": "2023-04-23T10:03:42.668069",
     "exception": false,
     "start_time": "2023-04-23T10:03:42.641204",
     "status": "completed"
    },
    "tags": []
   },
   "outputs": [
    {
     "name": "stdout",
     "output_type": "stream",
     "text": [
      "<class 'pandas.core.frame.DataFrame'>\n",
      "RangeIndex: 5110 entries, 0 to 5109\n",
      "Data columns (total 12 columns):\n",
      " #   Column             Non-Null Count  Dtype  \n",
      "---  ------             --------------  -----  \n",
      " 0   id                 5110 non-null   int64  \n",
      " 1   gender             5110 non-null   object \n",
      " 2   age                5110 non-null   float64\n",
      " 3   hypertension       5110 non-null   int64  \n",
      " 4   heart_disease      5110 non-null   int64  \n",
      " 5   ever_married       5110 non-null   object \n",
      " 6   work_type          5110 non-null   object \n",
      " 7   Residence_type     5110 non-null   object \n",
      " 8   avg_glucose_level  5110 non-null   float64\n",
      " 9   bmi                5110 non-null   float64\n",
      " 10  smoking_status     5110 non-null   object \n",
      " 11  stroke             5110 non-null   int64  \n",
      "dtypes: float64(3), int64(4), object(5)\n",
      "memory usage: 479.2+ KB\n"
     ]
    }
   ],
   "source": [
    "df.info()"
   ]
  },
  {
   "cell_type": "markdown",
   "id": "e1a40d6f",
   "metadata": {
    "papermill": {
     "duration": 0.007451,
     "end_time": "2023-04-23T10:03:42.684879",
     "exception": false,
     "start_time": "2023-04-23T10:03:42.677428",
     "status": "completed"
    },
    "tags": []
   },
   "source": [
    "## EDA Visualisation"
   ]
  },
  {
   "cell_type": "code",
   "execution_count": 8,
   "id": "1465a010",
   "metadata": {
    "execution": {
     "iopub.execute_input": "2023-04-23T10:03:42.701334Z",
     "iopub.status.busy": "2023-04-23T10:03:42.700449Z",
     "iopub.status.idle": "2023-04-23T10:03:42.838293Z",
     "shell.execute_reply": "2023-04-23T10:03:42.837163Z"
    },
    "papermill": {
     "duration": 0.149611,
     "end_time": "2023-04-23T10:03:42.841706",
     "exception": false,
     "start_time": "2023-04-23T10:03:42.692095",
     "status": "completed"
    },
    "tags": []
   },
   "outputs": [
    {
     "data": {
      "image/png": "[encoded data removed]",
      "text/plain": [
       "<Figure size 640x480 with 1 Axes>"
      ]
     },
     "metadata": {},
     "output_type": "display_data"
    }
   ],
   "source": [
    "class_counts = df['heart_disease'].value_counts()\n",
    "colors = ['black', 'red']\n",
    "class_counts.plot(kind='pie', colors=colors)\n",
    "plt.ylabel('Presence of Heart Disease')\n",
    "plt.show()\n"
   ]
  },
  {
   "cell_type": "code",
   "execution_count": 9,
   "id": "bba415cb",
   "metadata": {
    "execution": {
     "iopub.execute_input": "2023-04-23T10:03:42.886842Z",
     "iopub.status.busy": "2023-04-23T10:03:42.886184Z",
     "iopub.status.idle": "2023-04-23T10:03:43.117374Z",
     "shell.execute_reply": "2023-04-23T10:03:43.116395Z"
    },
    "papermill": {
     "duration": 0.256532,
     "end_time": "2023-04-23T10:03:43.119854",
     "exception": false,
     "start_time": "2023-04-23T10:03:42.863322",
     "status": "completed"
    },
    "tags": []
   },
   "outputs": [
    {
     "data": {
      "image/png": "[encoded data removed]",
      "text/plain": [
       "<Figure size 640x480 with 1 Axes>"
      ]
     },
     "metadata": {},
     "output_type": "display_data"
    }
   ],
   "source": [
    "hypertension_counts = df['hypertension'].value_counts().sort_values(ascending=True)\n",
    "sns.set_style(\"whitegrid\")\n",
    "colors = ['red', 'black']\n",
    "\n",
    "# Create horizontal bar chart of airline counts\n",
    "hypertension_counts.plot(kind='barh', color=colors)\n",
    "plt.title(\"Number of Patients\")\n",
    "plt.xlabel(\"Count\")\n",
    "plt.ylabel(\"Presence of HyperTension\")\n",
    "plt.show()"
   ]
  },
  {
   "cell_type": "code",
   "execution_count": 10,
   "id": "1574ce4c",
   "metadata": {
    "execution": {
     "iopub.execute_input": "2023-04-23T10:03:43.137429Z",
     "iopub.status.busy": "2023-04-23T10:03:43.137098Z",
     "iopub.status.idle": "2023-04-23T10:03:43.383359Z",
     "shell.execute_reply": "2023-04-23T10:03:43.381826Z"
    },
    "papermill": {
     "duration": 0.257801,
     "end_time": "2023-04-23T10:03:43.385875",
     "exception": false,
     "start_time": "2023-04-23T10:03:43.128074",
     "status": "completed"
    },
    "tags": []
   },
   "outputs": [
    {
     "data": {
      "image/png": "[encoded data removed]",
      "text/plain": [
       "<Figure size 640x480 with 1 Axes>"
      ]
     },
     "metadata": {},
     "output_type": "display_data"
    }
   ],
   "source": [
    "smoking_counts = df['smoking_status'].value_counts().sort_values(ascending=True)\n",
    "sns.set_style(\"whitegrid\")\n",
    "colors = ['red', 'black', 'blue', 'yellow']\n",
    "\n",
    "# Create horizontal bar chart of airline counts\n",
    "smoking_counts.plot(kind='barh', color=colors)\n",
    "plt.title(\"Number of Patients\")\n",
    "plt.xlabel(\"Count\")\n",
    "plt.ylabel(\"Smoking Status\")\n",
    "plt.show()"
   ]
  },
  {
   "cell_type": "code",
   "execution_count": 11,
   "id": "341f9ab3",
   "metadata": {
    "execution": {
     "iopub.execute_input": "2023-04-23T10:03:43.405145Z",
     "iopub.status.busy": "2023-04-23T10:03:43.404171Z",
     "iopub.status.idle": "2023-04-23T10:03:43.646584Z",
     "shell.execute_reply": "2023-04-23T10:03:43.645562Z"
    },
    "papermill": {
     "duration": 0.254054,
     "end_time": "2023-04-23T10:03:43.648842",
     "exception": false,
     "start_time": "2023-04-23T10:03:43.394788",
     "status": "completed"
    },
    "tags": []
   },
   "outputs": [
    {
     "data": {
      "image/png": "[encoded data removed]",
      "text/plain": [
       "<Figure size 640x480 with 1 Axes>"
      ]
     },
     "metadata": {},
     "output_type": "display_data"
    }
   ],
   "source": [
    "plt.hist(df['avg_glucose_level'], bins=10)\n",
    "\n",
    "plt.title('Patients on varying Glucose Levels')\n",
    "plt.xlabel('Number of Patients')\n",
    "plt.ylabel('Glucose Levels')\n",
    "\n",
    "# Show the plot\n",
    "plt.show()"
   ]
  },
  {
   "cell_type": "code",
   "execution_count": 12,
   "id": "f6672a70",
   "metadata": {
    "execution": {
     "iopub.execute_input": "2023-04-23T10:03:43.668087Z",
     "iopub.status.busy": "2023-04-23T10:03:43.667204Z",
     "iopub.status.idle": "2023-04-23T10:03:43.674928Z",
     "shell.execute_reply": "2023-04-23T10:03:43.673831Z"
    },
    "papermill": {
     "duration": 0.020377,
     "end_time": "2023-04-23T10:03:43.678034",
     "exception": false,
     "start_time": "2023-04-23T10:03:43.657657",
     "status": "completed"
    },
    "tags": []
   },
   "outputs": [
    {
     "name": "stdout",
     "output_type": "stream",
     "text": [
      "Number of categorical columns: 5\n",
      "Categorical columns:\n",
      "['gender', 'ever_married', 'work_type', 'Residence_type', 'smoking_status']\n"
     ]
    }
   ],
   "source": [
    "# IDENTIFYING CATEGORICAL VARIABLES IN THE DATASET\n",
    "\n",
    "cat_cols = list(df.select_dtypes(include=['object']).columns)\n",
    "print(f\"Number of categorical columns: {len(cat_cols)}\")\n",
    "print(f\"Categorical columns:\\n{cat_cols}\")"
   ]
  },
  {
   "cell_type": "code",
   "execution_count": 13,
   "id": "f8ae8b50",
   "metadata": {
    "execution": {
     "iopub.execute_input": "2023-04-23T10:03:43.696553Z",
     "iopub.status.busy": "2023-04-23T10:03:43.696260Z",
     "iopub.status.idle": "2023-04-23T10:03:44.133577Z",
     "shell.execute_reply": "2023-04-23T10:03:44.132571Z"
    },
    "papermill": {
     "duration": 0.449508,
     "end_time": "2023-04-23T10:03:44.136242",
     "exception": false,
     "start_time": "2023-04-23T10:03:43.686734",
     "status": "completed"
    },
    "tags": []
   },
   "outputs": [],
   "source": [
    "# PERFORMING TARGET ENCODING FOR ALL CATERGOTICAL VARIABLES\n",
    "\n",
    "import category_encoders as ce\n",
    "\n",
    "te = ce.TargetEncoder(cols=cat_cols)\n",
    "df = te.fit_transform(df, df['stroke'])"
   ]
  },
  {
   "cell_type": "code",
   "execution_count": 14,
   "id": "d932e1c8",
   "metadata": {
    "execution": {
     "iopub.execute_input": "2023-04-23T10:03:44.155943Z",
     "iopub.status.busy": "2023-04-23T10:03:44.155179Z",
     "iopub.status.idle": "2023-04-23T10:03:44.174897Z",
     "shell.execute_reply": "2023-04-23T10:03:44.173831Z"
    },
    "papermill": {
     "duration": 0.03204,
     "end_time": "2023-04-23T10:03:44.177452",
     "exception": false,
     "start_time": "2023-04-23T10:03:44.145412",
     "status": "completed"
    },
    "tags": []
   },
   "outputs": [
    {
     "data": {
      "text/html": [
       "<div>\n",
       "<style scoped>\n",
       "    .dataframe tbody tr th:only-of-type {\n",
       "        vertical-align: middle;\n",
       "    }\n",
       "\n",
       "    .dataframe tbody tr th {\n",
       "        vertical-align: top;\n",
       "    }\n",
       "\n",
       "    .dataframe thead th {\n",
       "        text-align: right;\n",
       "    }\n",
       "</style>\n",
       "<table border=\"1\" class=\"dataframe\">\n",
       "  <thead>\n",
       "    <tr style=\"text-align: right;\">\n",
       "      <th></th>\n",
       "      <th>id</th>\n",
       "      <th>gender</th>\n",
       "      <th>age</th>\n",
       "      <th>hypertension</th>\n",
       "      <th>heart_disease</th>\n",
       "      <th>ever_married</th>\n",
       "      <th>work_type</th>\n",
       "      <th>Residence_type</th>\n",
       "      <th>avg_glucose_level</th>\n",
       "      <th>bmi</th>\n",
       "      <th>smoking_status</th>\n",
       "      <th>stroke</th>\n",
       "    </tr>\n",
       "  </thead>\n",
       "  <tbody>\n",
       "    <tr>\n",
       "      <th>0</th>\n",
       "      <td>9046</td>\n",
       "      <td>0.051064</td>\n",
       "      <td>67.0</td>\n",
       "      <td>0</td>\n",
       "      <td>1</td>\n",
       "      <td>0.065613</td>\n",
       "      <td>0.050940</td>\n",
       "      <td>0.052003</td>\n",
       "      <td>228.69</td>\n",
       "      <td>36.600000</td>\n",
       "      <td>0.079096</td>\n",
       "      <td>1</td>\n",
       "    </tr>\n",
       "    <tr>\n",
       "      <th>1</th>\n",
       "      <td>51676</td>\n",
       "      <td>0.047094</td>\n",
       "      <td>61.0</td>\n",
       "      <td>0</td>\n",
       "      <td>0</td>\n",
       "      <td>0.065613</td>\n",
       "      <td>0.079365</td>\n",
       "      <td>0.045346</td>\n",
       "      <td>202.21</td>\n",
       "      <td>28.893237</td>\n",
       "      <td>0.047569</td>\n",
       "      <td>1</td>\n",
       "    </tr>\n",
       "    <tr>\n",
       "      <th>2</th>\n",
       "      <td>31112</td>\n",
       "      <td>0.051064</td>\n",
       "      <td>80.0</td>\n",
       "      <td>0</td>\n",
       "      <td>1</td>\n",
       "      <td>0.065613</td>\n",
       "      <td>0.050940</td>\n",
       "      <td>0.045346</td>\n",
       "      <td>105.92</td>\n",
       "      <td>32.500000</td>\n",
       "      <td>0.047569</td>\n",
       "      <td>1</td>\n",
       "    </tr>\n",
       "    <tr>\n",
       "      <th>3</th>\n",
       "      <td>60182</td>\n",
       "      <td>0.047094</td>\n",
       "      <td>49.0</td>\n",
       "      <td>0</td>\n",
       "      <td>0</td>\n",
       "      <td>0.065613</td>\n",
       "      <td>0.050940</td>\n",
       "      <td>0.052003</td>\n",
       "      <td>171.23</td>\n",
       "      <td>34.400000</td>\n",
       "      <td>0.053232</td>\n",
       "      <td>1</td>\n",
       "    </tr>\n",
       "    <tr>\n",
       "      <th>4</th>\n",
       "      <td>1665</td>\n",
       "      <td>0.047094</td>\n",
       "      <td>79.0</td>\n",
       "      <td>1</td>\n",
       "      <td>0</td>\n",
       "      <td>0.065613</td>\n",
       "      <td>0.079365</td>\n",
       "      <td>0.045346</td>\n",
       "      <td>174.12</td>\n",
       "      <td>24.000000</td>\n",
       "      <td>0.047569</td>\n",
       "      <td>1</td>\n",
       "    </tr>\n",
       "    <tr>\n",
       "      <th>...</th>\n",
       "      <td>...</td>\n",
       "      <td>...</td>\n",
       "      <td>...</td>\n",
       "      <td>...</td>\n",
       "      <td>...</td>\n",
       "      <td>...</td>\n",
       "      <td>...</td>\n",
       "      <td>...</td>\n",
       "      <td>...</td>\n",
       "      <td>...</td>\n",
       "      <td>...</td>\n",
       "      <td>...</td>\n",
       "    </tr>\n",
       "    <tr>\n",
       "      <th>5105</th>\n",
       "      <td>18234</td>\n",
       "      <td>0.047094</td>\n",
       "      <td>80.0</td>\n",
       "      <td>1</td>\n",
       "      <td>0</td>\n",
       "      <td>0.065613</td>\n",
       "      <td>0.050940</td>\n",
       "      <td>0.052003</td>\n",
       "      <td>83.75</td>\n",
       "      <td>28.893237</td>\n",
       "      <td>0.047569</td>\n",
       "      <td>0</td>\n",
       "    </tr>\n",
       "    <tr>\n",
       "      <th>5106</th>\n",
       "      <td>44873</td>\n",
       "      <td>0.047094</td>\n",
       "      <td>81.0</td>\n",
       "      <td>0</td>\n",
       "      <td>0</td>\n",
       "      <td>0.065613</td>\n",
       "      <td>0.079365</td>\n",
       "      <td>0.052003</td>\n",
       "      <td>125.20</td>\n",
       "      <td>40.000000</td>\n",
       "      <td>0.047569</td>\n",
       "      <td>0</td>\n",
       "    </tr>\n",
       "    <tr>\n",
       "      <th>5107</th>\n",
       "      <td>19723</td>\n",
       "      <td>0.047094</td>\n",
       "      <td>35.0</td>\n",
       "      <td>0</td>\n",
       "      <td>0</td>\n",
       "      <td>0.065613</td>\n",
       "      <td>0.079365</td>\n",
       "      <td>0.045346</td>\n",
       "      <td>82.99</td>\n",
       "      <td>30.600000</td>\n",
       "      <td>0.047569</td>\n",
       "      <td>0</td>\n",
       "    </tr>\n",
       "    <tr>\n",
       "      <th>5108</th>\n",
       "      <td>37544</td>\n",
       "      <td>0.051064</td>\n",
       "      <td>51.0</td>\n",
       "      <td>0</td>\n",
       "      <td>0</td>\n",
       "      <td>0.065613</td>\n",
       "      <td>0.050940</td>\n",
       "      <td>0.045346</td>\n",
       "      <td>166.29</td>\n",
       "      <td>25.600000</td>\n",
       "      <td>0.079096</td>\n",
       "      <td>0</td>\n",
       "    </tr>\n",
       "    <tr>\n",
       "      <th>5109</th>\n",
       "      <td>44679</td>\n",
       "      <td>0.047094</td>\n",
       "      <td>44.0</td>\n",
       "      <td>0</td>\n",
       "      <td>0</td>\n",
       "      <td>0.065613</td>\n",
       "      <td>0.050228</td>\n",
       "      <td>0.052003</td>\n",
       "      <td>85.28</td>\n",
       "      <td>26.200000</td>\n",
       "      <td>0.030440</td>\n",
       "      <td>0</td>\n",
       "    </tr>\n",
       "  </tbody>\n",
       "</table>\n",
       "<p>5110 rows × 12 columns</p>\n",
       "</div>"
      ],
      "text/plain": [
       "         id    gender   age  hypertension  heart_disease  ever_married  \\\n",
       "0      9046  0.051064  67.0             0              1      0.065613   \n",
       "1     51676  0.047094  61.0             0              0      0.065613   \n",
       "2     31112  0.051064  80.0             0              1      0.065613   \n",
       "3     60182  0.047094  49.0             0              0      0.065613   \n",
       "4      1665  0.047094  79.0             1              0      0.065613   \n",
       "...     ...       ...   ...           ...            ...           ...   \n",
       "5105  18234  0.047094  80.0             1              0      0.065613   \n",
       "5106  44873  0.047094  81.0             0              0      0.065613   \n",
       "5107  19723  0.047094  35.0             0              0      0.065613   \n",
       "5108  37544  0.051064  51.0             0              0      0.065613   \n",
       "5109  44679  0.047094  44.0             0              0      0.065613   \n",
       "\n",
       "      work_type  Residence_type  avg_glucose_level        bmi  smoking_status  \\\n",
       "0      0.050940        0.052003             228.69  36.600000        0.079096   \n",
       "1      0.079365        0.045346             202.21  28.893237        0.047569   \n",
       "2      0.050940        0.045346             105.92  32.500000        0.047569   \n",
       "3      0.050940        0.052003             171.23  34.400000        0.053232   \n",
       "4      0.079365        0.045346             174.12  24.000000        0.047569   \n",
       "...         ...             ...                ...        ...             ...   \n",
       "5105   0.050940        0.052003              83.75  28.893237        0.047569   \n",
       "5106   0.079365        0.052003             125.20  40.000000        0.047569   \n",
       "5107   0.079365        0.045346              82.99  30.600000        0.047569   \n",
       "5108   0.050940        0.045346             166.29  25.600000        0.079096   \n",
       "5109   0.050228        0.052003              85.28  26.200000        0.030440   \n",
       "\n",
       "      stroke  \n",
       "0          1  \n",
       "1          1  \n",
       "2          1  \n",
       "3          1  \n",
       "4          1  \n",
       "...      ...  \n",
       "5105       0  \n",
       "5106       0  \n",
       "5107       0  \n",
       "5108       0  \n",
       "5109       0  \n",
       "\n",
       "[5110 rows x 12 columns]"
      ]
     },
     "execution_count": 14,
     "metadata": {},
     "output_type": "execute_result"
    }
   ],
   "source": [
    "df"
   ]
  },
  {
   "cell_type": "code",
   "execution_count": 15,
   "id": "a18d867c",
   "metadata": {
    "execution": {
     "iopub.execute_input": "2023-04-23T10:03:44.196745Z",
     "iopub.status.busy": "2023-04-23T10:03:44.196403Z",
     "iopub.status.idle": "2023-04-23T10:03:44.204638Z",
     "shell.execute_reply": "2023-04-23T10:03:44.203328Z"
    },
    "papermill": {
     "duration": 0.020223,
     "end_time": "2023-04-23T10:03:44.206718",
     "exception": false,
     "start_time": "2023-04-23T10:03:44.186495",
     "status": "completed"
    },
    "tags": []
   },
   "outputs": [
    {
     "name": "stdout",
     "output_type": "stream",
     "text": [
      "['id', 'gender', 'age', 'hypertension', 'heart_disease', 'ever_married', 'work_type', 'Residence_type', 'avg_glucose_level', 'bmi', 'smoking_status', 'stroke']\n"
     ]
    }
   ],
   "source": [
    "# IDENTIFYING NUMERICAL COLUMNS\n",
    "\n",
    "numeric_cols = df.select_dtypes(include=['float64', 'int64']).columns.tolist()\n",
    "print(numeric_cols)"
   ]
  },
  {
   "cell_type": "code",
   "execution_count": 16,
   "id": "73961842",
   "metadata": {
    "execution": {
     "iopub.execute_input": "2023-04-23T10:03:44.226318Z",
     "iopub.status.busy": "2023-04-23T10:03:44.225445Z",
     "iopub.status.idle": "2023-04-23T10:03:44.246724Z",
     "shell.execute_reply": "2023-04-23T10:03:44.245540Z"
    },
    "papermill": {
     "duration": 0.033651,
     "end_time": "2023-04-23T10:03:44.249237",
     "exception": false,
     "start_time": "2023-04-23T10:03:44.215586",
     "status": "completed"
    },
    "tags": []
   },
   "outputs": [
    {
     "data": {
      "text/html": [
       "<div>\n",
       "<style scoped>\n",
       "    .dataframe tbody tr th:only-of-type {\n",
       "        vertical-align: middle;\n",
       "    }\n",
       "\n",
       "    .dataframe tbody tr th {\n",
       "        vertical-align: top;\n",
       "    }\n",
       "\n",
       "    .dataframe thead th {\n",
       "        text-align: right;\n",
       "    }\n",
       "</style>\n",
       "<table border=\"1\" class=\"dataframe\">\n",
       "  <thead>\n",
       "    <tr style=\"text-align: right;\">\n",
       "      <th></th>\n",
       "      <th>id</th>\n",
       "      <th>gender</th>\n",
       "      <th>age</th>\n",
       "      <th>hypertension</th>\n",
       "      <th>heart_disease</th>\n",
       "      <th>ever_married</th>\n",
       "      <th>work_type</th>\n",
       "      <th>Residence_type</th>\n",
       "      <th>avg_glucose_level</th>\n",
       "      <th>bmi</th>\n",
       "      <th>smoking_status</th>\n",
       "      <th>stroke</th>\n",
       "    </tr>\n",
       "  </thead>\n",
       "  <tbody>\n",
       "    <tr>\n",
       "      <th>0</th>\n",
       "      <td>0.123214</td>\n",
       "      <td>1.000000</td>\n",
       "      <td>0.816895</td>\n",
       "      <td>0.0</td>\n",
       "      <td>1.0</td>\n",
       "      <td>1.0</td>\n",
       "      <td>0.628208</td>\n",
       "      <td>1.0</td>\n",
       "      <td>0.801265</td>\n",
       "      <td>0.301260</td>\n",
       "      <td>1.000000</td>\n",
       "      <td>1.0</td>\n",
       "    </tr>\n",
       "    <tr>\n",
       "      <th>1</th>\n",
       "      <td>0.708205</td>\n",
       "      <td>0.542445</td>\n",
       "      <td>0.743652</td>\n",
       "      <td>0.0</td>\n",
       "      <td>0.0</td>\n",
       "      <td>1.0</td>\n",
       "      <td>1.000000</td>\n",
       "      <td>0.0</td>\n",
       "      <td>0.679023</td>\n",
       "      <td>0.212981</td>\n",
       "      <td>0.352031</td>\n",
       "      <td>1.0</td>\n",
       "    </tr>\n",
       "    <tr>\n",
       "      <th>2</th>\n",
       "      <td>0.426015</td>\n",
       "      <td>1.000000</td>\n",
       "      <td>0.975586</td>\n",
       "      <td>0.0</td>\n",
       "      <td>1.0</td>\n",
       "      <td>1.0</td>\n",
       "      <td>0.628208</td>\n",
       "      <td>0.0</td>\n",
       "      <td>0.234512</td>\n",
       "      <td>0.254296</td>\n",
       "      <td>0.352031</td>\n",
       "      <td>1.0</td>\n",
       "    </tr>\n",
       "    <tr>\n",
       "      <th>3</th>\n",
       "      <td>0.824928</td>\n",
       "      <td>0.542445</td>\n",
       "      <td>0.597168</td>\n",
       "      <td>0.0</td>\n",
       "      <td>0.0</td>\n",
       "      <td>1.0</td>\n",
       "      <td>0.628208</td>\n",
       "      <td>1.0</td>\n",
       "      <td>0.536008</td>\n",
       "      <td>0.276060</td>\n",
       "      <td>0.468425</td>\n",
       "      <td>1.0</td>\n",
       "    </tr>\n",
       "    <tr>\n",
       "      <th>4</th>\n",
       "      <td>0.021929</td>\n",
       "      <td>0.542445</td>\n",
       "      <td>0.963379</td>\n",
       "      <td>1.0</td>\n",
       "      <td>0.0</td>\n",
       "      <td>1.0</td>\n",
       "      <td>1.000000</td>\n",
       "      <td>0.0</td>\n",
       "      <td>0.549349</td>\n",
       "      <td>0.156930</td>\n",
       "      <td>0.352031</td>\n",
       "      <td>1.0</td>\n",
       "    </tr>\n",
       "  </tbody>\n",
       "</table>\n",
       "</div>"
      ],
      "text/plain": [
       "         id    gender       age  hypertension  heart_disease  ever_married  \\\n",
       "0  0.123214  1.000000  0.816895           0.0            1.0           1.0   \n",
       "1  0.708205  0.542445  0.743652           0.0            0.0           1.0   \n",
       "2  0.426015  1.000000  0.975586           0.0            1.0           1.0   \n",
       "3  0.824928  0.542445  0.597168           0.0            0.0           1.0   \n",
       "4  0.021929  0.542445  0.963379           1.0            0.0           1.0   \n",
       "\n",
       "   work_type  Residence_type  avg_glucose_level       bmi  smoking_status  \\\n",
       "0   0.628208             1.0           0.801265  0.301260        1.000000   \n",
       "1   1.000000             0.0           0.679023  0.212981        0.352031   \n",
       "2   0.628208             0.0           0.234512  0.254296        0.352031   \n",
       "3   0.628208             1.0           0.536008  0.276060        0.468425   \n",
       "4   1.000000             0.0           0.549349  0.156930        0.352031   \n",
       "\n",
       "   stroke  \n",
       "0     1.0  \n",
       "1     1.0  \n",
       "2     1.0  \n",
       "3     1.0  \n",
       "4     1.0  "
      ]
     },
     "execution_count": 16,
     "metadata": {},
     "output_type": "execute_result"
    }
   ],
   "source": [
    "# # MIN MAX SCALER\n",
    "\n",
    "names = df.columns\n",
    "indexes = df.index\n",
    "sc = MinMaxScaler((0, 1)) #between 0 and 1 range\n",
    "df = sc.fit_transform(df)\n",
    "data_scaled = pd.DataFrame(df, columns=names, index=indexes)\n",
    "data_scaled.head()"
   ]
  },
  {
   "cell_type": "code",
   "execution_count": 17,
   "id": "e9402377",
   "metadata": {
    "execution": {
     "iopub.execute_input": "2023-04-23T10:03:44.270547Z",
     "iopub.status.busy": "2023-04-23T10:03:44.268977Z",
     "iopub.status.idle": "2023-04-23T10:03:44.275307Z",
     "shell.execute_reply": "2023-04-23T10:03:44.274393Z"
    },
    "papermill": {
     "duration": 0.018954,
     "end_time": "2023-04-23T10:03:44.277448",
     "exception": false,
     "start_time": "2023-04-23T10:03:44.258494",
     "status": "completed"
    },
    "tags": []
   },
   "outputs": [],
   "source": [
    "# SETTING TARGET VARIABLES\n",
    "\n",
    "y = data_scaled['stroke']\n",
    "\n",
    "# Extract the input features\n",
    "x = data_scaled.drop(['stroke'], axis=1)"
   ]
  },
  {
   "cell_type": "code",
   "execution_count": 18,
   "id": "7d511553",
   "metadata": {
    "execution": {
     "iopub.execute_input": "2023-04-23T10:03:44.298132Z",
     "iopub.status.busy": "2023-04-23T10:03:44.297155Z",
     "iopub.status.idle": "2023-04-23T10:03:44.467729Z",
     "shell.execute_reply": "2023-04-23T10:03:44.466741Z"
    },
    "papermill": {
     "duration": 0.183341,
     "end_time": "2023-04-23T10:03:44.470365",
     "exception": false,
     "start_time": "2023-04-23T10:03:44.287024",
     "status": "completed"
    },
    "tags": []
   },
   "outputs": [],
   "source": [
    "from sklearn.model_selection import train_test_split\n",
    "from imblearn.over_sampling import SMOTE\n",
    "\n",
    "\n",
    "# Split the dataset into training and testing sets\n",
    "x_train, x_test, y_train, y_test = train_test_split(x, y, test_size=0.2, random_state=42)\n",
    "\n",
    "# Apply SMOTE to oversample the minority class\n",
    "smote = SMOTE(random_state=42)\n",
    "x_train_resampled, y_train_resampled = smote.fit_resample(x_train, y_train)"
   ]
  },
  {
   "cell_type": "code",
   "execution_count": 19,
   "id": "16f4bdb6",
   "metadata": {
    "execution": {
     "iopub.execute_input": "2023-04-23T10:03:44.490753Z",
     "iopub.status.busy": "2023-04-23T10:03:44.490436Z",
     "iopub.status.idle": "2023-04-23T10:03:44.497523Z",
     "shell.execute_reply": "2023-04-23T10:03:44.496408Z"
    },
    "papermill": {
     "duration": 0.020914,
     "end_time": "2023-04-23T10:03:44.500755",
     "exception": false,
     "start_time": "2023-04-23T10:03:44.479841",
     "status": "completed"
    },
    "tags": []
   },
   "outputs": [
    {
     "data": {
      "text/plain": [
       "((4088, 11), (4088,), (7802, 11), (7802,))"
      ]
     },
     "execution_count": 19,
     "metadata": {},
     "output_type": "execute_result"
    }
   ],
   "source": [
    "x_train.shape, y_train.shape, x_train_resampled.shape, y_train_resampled.shape"
   ]
  },
  {
   "cell_type": "markdown",
   "id": "689375a0",
   "metadata": {
    "papermill": {
     "duration": 0.009036,
     "end_time": "2023-04-23T10:03:44.519241",
     "exception": false,
     "start_time": "2023-04-23T10:03:44.510205",
     "status": "completed"
    },
    "tags": []
   },
   "source": [
    "# ML MODELS"
   ]
  },
  {
   "cell_type": "markdown",
   "id": "65b35b73",
   "metadata": {
    "papermill": {
     "duration": 0.008948,
     "end_time": "2023-04-23T10:03:44.537397",
     "exception": false,
     "start_time": "2023-04-23T10:03:44.528449",
     "status": "completed"
    },
    "tags": []
   },
   "source": [
    "### LINEAR REGRESSION"
   ]
  },
  {
   "cell_type": "code",
   "execution_count": 20,
   "id": "2271b977",
   "metadata": {
    "execution": {
     "iopub.execute_input": "2023-04-23T10:03:44.557194Z",
     "iopub.status.busy": "2023-04-23T10:03:44.556849Z",
     "iopub.status.idle": "2023-04-23T10:03:44.579124Z",
     "shell.execute_reply": "2023-04-23T10:03:44.577490Z"
    },
    "papermill": {
     "duration": 0.036103,
     "end_time": "2023-04-23T10:03:44.582680",
     "exception": false,
     "start_time": "2023-04-23T10:03:44.546577",
     "status": "completed"
    },
    "tags": []
   },
   "outputs": [
    {
     "name": "stdout",
     "output_type": "stream",
     "text": [
      "Accuracy: 0.7328767123287672\n"
     ]
    }
   ],
   "source": [
    "from sklearn.linear_model import LinearRegression\n",
    "from sklearn.metrics import mean_squared_error, r2_score\n",
    "\n",
    "\n",
    "lr = LinearRegression()\n",
    "\n",
    "# Fit the model to the training data\n",
    "lr.fit(x_train_resampled, y_train_resampled)\n",
    "\n",
    "#make predictions\n",
    "y_pred = lr.predict(x_test)\n",
    "\n",
    "y_pred[y_pred > 0.5] = 1\n",
    "y_pred[y_pred <= 0.5] = 0\n",
    "\n",
    "# Evaluate the model performance\n",
    "from sklearn.metrics import accuracy_score\n",
    "accuracy = accuracy_score(y_test, y_pred)\n",
    "print(\"Accuracy:\", accuracy)"
   ]
  },
  {
   "cell_type": "markdown",
   "id": "60e5044d",
   "metadata": {
    "papermill": {
     "duration": 0.02518,
     "end_time": "2023-04-23T10:03:44.632981",
     "exception": false,
     "start_time": "2023-04-23T10:03:44.607801",
     "status": "completed"
    },
    "tags": []
   },
   "source": [
    "### LOGISTIC REGRESSION"
   ]
  },
  {
   "cell_type": "code",
   "execution_count": 21,
   "id": "76cb3c43",
   "metadata": {
    "execution": {
     "iopub.execute_input": "2023-04-23T10:03:44.684310Z",
     "iopub.status.busy": "2023-04-23T10:03:44.683603Z",
     "iopub.status.idle": "2023-04-23T10:03:44.739271Z",
     "shell.execute_reply": "2023-04-23T10:03:44.737620Z"
    },
    "papermill": {
     "duration": 0.084794,
     "end_time": "2023-04-23T10:03:44.742696",
     "exception": false,
     "start_time": "2023-04-23T10:03:44.657902",
     "status": "completed"
    },
    "tags": []
   },
   "outputs": [
    {
     "name": "stdout",
     "output_type": "stream",
     "text": [
      "Accuracy: 0.7485322896281801\n"
     ]
    }
   ],
   "source": [
    "from sklearn.linear_model import LogisticRegression\n",
    "\n",
    "# Fit the logistic regression model to the training data\n",
    "model = LogisticRegression()\n",
    "model.fit(x_train_resampled, y_train_resampled)\n",
    "\n",
    "# Make predictions on the testing data\n",
    "y_pred = model.predict(x_test)\n",
    "\n",
    "# Evaluate the model performance\n",
    "from sklearn.metrics import accuracy_score\n",
    "accuracy = accuracy_score(y_test, y_pred)\n",
    "print(\"Accuracy:\", accuracy)"
   ]
  },
  {
   "cell_type": "markdown",
   "id": "e5bab6ac",
   "metadata": {
    "papermill": {
     "duration": 0.024259,
     "end_time": "2023-04-23T10:03:44.791285",
     "exception": false,
     "start_time": "2023-04-23T10:03:44.767026",
     "status": "completed"
    },
    "tags": []
   },
   "source": [
    "### DECISION TREE REGRESSOR"
   ]
  },
  {
   "cell_type": "code",
   "execution_count": 22,
   "id": "6cca4a30",
   "metadata": {
    "execution": {
     "iopub.execute_input": "2023-04-23T10:03:44.844477Z",
     "iopub.status.busy": "2023-04-23T10:03:44.843747Z",
     "iopub.status.idle": "2023-04-23T10:03:44.881922Z",
     "shell.execute_reply": "2023-04-23T10:03:44.880885Z"
    },
    "papermill": {
     "duration": 0.067258,
     "end_time": "2023-04-23T10:03:44.884181",
     "exception": false,
     "start_time": "2023-04-23T10:03:44.816923",
     "status": "completed"
    },
    "tags": []
   },
   "outputs": [
    {
     "name": "stdout",
     "output_type": "stream",
     "text": [
      "Accuracy:  0.764187866927593\n"
     ]
    }
   ],
   "source": [
    "from sklearn.tree import DecisionTreeRegressor\n",
    "from sklearn.metrics import accuracy_score\n",
    "\n",
    "dt = DecisionTreeRegressor(max_depth=5, min_samples_split=10)\n",
    "\n",
    "dt.fit(x_train_resampled, y_train_resampled)\n",
    "\n",
    "y_pred = dt.predict(x_test)\n",
    "\n",
    "y_pred[y_pred > 0.5] = 1\n",
    "y_pred[y_pred <= 0.5] = 0\n",
    "\n",
    "print('Accuracy: ', accuracy_score(y_pred, y_test))"
   ]
  },
  {
   "cell_type": "markdown",
   "id": "3efcd9a8",
   "metadata": {
    "papermill": {
     "duration": 0.009322,
     "end_time": "2023-04-23T10:03:44.903255",
     "exception": false,
     "start_time": "2023-04-23T10:03:44.893933",
     "status": "completed"
    },
    "tags": []
   },
   "source": [
    "### RANDOM FOREST REGRESSOR"
   ]
  },
  {
   "cell_type": "code",
   "execution_count": 23,
   "id": "221da058",
   "metadata": {
    "execution": {
     "iopub.execute_input": "2023-04-23T10:03:44.923759Z",
     "iopub.status.busy": "2023-04-23T10:03:44.923379Z",
     "iopub.status.idle": "2023-04-23T10:03:46.435925Z",
     "shell.execute_reply": "2023-04-23T10:03:46.434275Z"
    },
    "papermill": {
     "duration": 1.52602,
     "end_time": "2023-04-23T10:03:46.438837",
     "exception": false,
     "start_time": "2023-04-23T10:03:44.912817",
     "status": "completed"
    },
    "tags": []
   },
   "outputs": [
    {
     "name": "stdout",
     "output_type": "stream",
     "text": [
      "Accuracy:  0.8405088062622309\n"
     ]
    }
   ],
   "source": [
    "from sklearn.ensemble import RandomForestRegressor\n",
    "\n",
    "\n",
    "rf = RandomForestRegressor(n_estimators=100, max_depth=10, random_state=42)\n",
    "\n",
    "rf.fit(x_train_resampled, y_train_resampled)\n",
    "\n",
    "y_pred = rf.predict(x_test)\n",
    "\n",
    "y_pred[y_pred > 0.5] = 1\n",
    "y_pred[y_pred <= 0.5] = 0\n",
    "\n",
    "print('Accuracy: ', accuracy_score(y_pred, y_test))"
   ]
  },
  {
   "cell_type": "markdown",
   "id": "d6644231",
   "metadata": {
    "papermill": {
     "duration": 0.01296,
     "end_time": "2023-04-23T10:03:46.465082",
     "exception": false,
     "start_time": "2023-04-23T10:03:46.452122",
     "status": "completed"
    },
    "tags": []
   },
   "source": [
    "### XGBOOST"
   ]
  },
  {
   "cell_type": "code",
   "execution_count": 24,
   "id": "b4f92a2e",
   "metadata": {
    "execution": {
     "iopub.execute_input": "2023-04-23T10:03:46.487947Z",
     "iopub.status.busy": "2023-04-23T10:03:46.487561Z",
     "iopub.status.idle": "2023-04-23T10:03:50.237884Z",
     "shell.execute_reply": "2023-04-23T10:03:50.236888Z"
    },
    "papermill": {
     "duration": 3.770429,
     "end_time": "2023-04-23T10:03:50.246610",
     "exception": false,
     "start_time": "2023-04-23T10:03:46.476181",
     "status": "completed"
    },
    "tags": []
   },
   "outputs": [
    {
     "name": "stdout",
     "output_type": "stream",
     "text": [
      "Accuracy:  0.9354207436399217\n"
     ]
    }
   ],
   "source": [
    "import xgboost as xgb\n",
    "\n",
    "XGB = xgb.XGBRegressor(objective ='reg:squarederror', n_estimators = 10, seed = 42)\n",
    "\n",
    "XGB.fit(x_train, y_train)\n",
    "\n",
    "y_pred = XGB.predict(x_test)\n",
    "\n",
    "y_pred[y_pred > 0.5] = 1\n",
    "y_pred[y_pred <= 0.5] = 0\n",
    "\n",
    "print('Accuracy: ', accuracy_score(y_pred, y_test))"
   ]
  },
  {
   "cell_type": "markdown",
   "id": "297a2c10",
   "metadata": {
    "papermill": {
     "duration": 0.00933,
     "end_time": "2023-04-23T10:03:50.266085",
     "exception": false,
     "start_time": "2023-04-23T10:03:50.256755",
     "status": "completed"
    },
    "tags": []
   },
   "source": [
    "### ADABOOST REGRESSOR"
   ]
  },
  {
   "cell_type": "code",
   "execution_count": 25,
   "id": "116a10b1",
   "metadata": {
    "execution": {
     "iopub.execute_input": "2023-04-23T10:03:50.287927Z",
     "iopub.status.busy": "2023-04-23T10:03:50.286809Z",
     "iopub.status.idle": "2023-04-23T10:03:50.824773Z",
     "shell.execute_reply": "2023-04-23T10:03:50.823532Z"
    },
    "papermill": {
     "duration": 0.55164,
     "end_time": "2023-04-23T10:03:50.827201",
     "exception": false,
     "start_time": "2023-04-23T10:03:50.275561",
     "status": "completed"
    },
    "tags": []
   },
   "outputs": [
    {
     "name": "stdout",
     "output_type": "stream",
     "text": [
      "Accuracy:  0.6565557729941291\n"
     ]
    }
   ],
   "source": [
    "from sklearn.ensemble import AdaBoostRegressor\n",
    "\n",
    "ada = AdaBoostRegressor(n_estimators=50, learning_rate=0.1, random_state=42)\n",
    "\n",
    "ada.fit(x_train_resampled, y_train_resampled)\n",
    "\n",
    "y_pred = ada.predict(x_test)\n",
    "\n",
    "y_pred[y_pred > 0.5] = 1\n",
    "y_pred[y_pred <= 0.5] = 0\n",
    "\n",
    "print('Accuracy: ', accuracy_score(y_pred, y_test))"
   ]
  },
  {
   "cell_type": "markdown",
   "id": "d41657da",
   "metadata": {
    "papermill": {
     "duration": 0.009369,
     "end_time": "2023-04-23T10:03:50.846678",
     "exception": false,
     "start_time": "2023-04-23T10:03:50.837309",
     "status": "completed"
    },
    "tags": []
   },
   "source": [
    "### GRADIENT BOOSTING REGRESSOR"
   ]
  },
  {
   "cell_type": "code",
   "execution_count": 26,
   "id": "8454bfc8",
   "metadata": {
    "execution": {
     "iopub.execute_input": "2023-04-23T10:03:50.867291Z",
     "iopub.status.busy": "2023-04-23T10:03:50.866677Z",
     "iopub.status.idle": "2023-04-23T10:03:51.979613Z",
     "shell.execute_reply": "2023-04-23T10:03:51.978186Z"
    },
    "papermill": {
     "duration": 1.125932,
     "end_time": "2023-04-23T10:03:51.982071",
     "exception": false,
     "start_time": "2023-04-23T10:03:50.856139",
     "status": "completed"
    },
    "tags": []
   },
   "outputs": [
    {
     "name": "stderr",
     "output_type": "stream",
     "text": [
      "/opt/conda/lib/python3.7/site-packages/sklearn/ensemble/_gb.py:290: FutureWarning: The loss 'ls' was deprecated in v1.0 and will be removed in version 1.2. Use 'squared_error' which is equivalent.\n",
      "  FutureWarning,\n"
     ]
    },
    {
     "name": "stdout",
     "output_type": "stream",
     "text": [
      "Accuracy:  0.8542074363992173\n"
     ]
    }
   ],
   "source": [
    "from sklearn.ensemble import GradientBoostingRegressor\n",
    "\n",
    "gb = GradientBoostingRegressor(loss='ls', learning_rate=0.1, n_estimators=100, max_depth=3)\n",
    "\n",
    "gb.fit(x_train_resampled, y_train_resampled)\n",
    "\n",
    "y_pred = gb.predict(x_test)\n",
    "\n",
    "y_pred[y_pred > 0.5] = 1\n",
    "y_pred[y_pred <= 0.5] = 0\n",
    "\n",
    "print('Accuracy: ', accuracy_score(y_pred, y_test))"
   ]
  },
  {
   "cell_type": "markdown",
   "id": "01514039",
   "metadata": {
    "papermill": {
     "duration": 0.009678,
     "end_time": "2023-04-23T10:03:52.002100",
     "exception": false,
     "start_time": "2023-04-23T10:03:51.992422",
     "status": "completed"
    },
    "tags": []
   },
   "source": [
    "#### So hence, we observe that XGB Regressor gives the highest accuracy of 93.54%, followed by Gradient Boosting Regressor with 85.42%. Rest have given an accuracy of <80%."
   ]
  },
  {
   "cell_type": "code",
   "execution_count": null,
   "id": "8066aa2f",
   "metadata": {
    "papermill": {
     "duration": 0.009555,
     "end_time": "2023-04-23T10:03:52.021215",
     "exception": false,
     "start_time": "2023-04-23T10:03:52.011660",
     "status": "completed"
    },
    "tags": []
   },
   "outputs": [],
   "source": []
  }
 ],
 "metadata": {
  "kernelspec": {
   "display_name": "Python 3",
   "language": "python",
   "name": "python3"
  },
  "language_info": {
   "codemirror_mode": {
    "name": "ipython",
    "version": 3
   },
   "file_extension": ".py",
   "mimetype": "text/x-python",
   "name": "python",
   "nbconvert_exporter": "python",
   "pygments_lexer": "ipython3",
   "version": "3.7.12"
  },
  "papermill": {
   "default_parameters": {},
   "duration": 21.65104,
   "end_time": "2023-04-23T10:03:53.353932",
   "environment_variables": {},
   "exception": null,
   "input_path": "__notebook__.ipynb",
   "output_path": "__notebook__.ipynb",
   "parameters": {},
   "start_time": "2023-04-23T10:03:31.702892",
   "version": "2.4.0"
  }
 },
 "nbformat": 4,
 "nbformat_minor": 5
}
